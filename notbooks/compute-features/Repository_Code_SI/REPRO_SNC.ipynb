{
 "cells": [
  {
   "cell_type": "code",
   "execution_count": null,
   "metadata": {
    "collapsed": true
   },
   "outputs": [],
   "source": [
    "import numpy as np\n",
    "import os\n",
    "import pandas as pd\n",
    "import subprocess \n",
    "import sys\n",
    "from IPython.display import display, HTML"
   ]
  },
  {
   "cell_type": "code",
   "execution_count": null,
   "metadata": {
    "collapsed": false,
    "scrolled": true
   },
   "outputs": [],
   "source": [
    "'''\n",
    "Compute SNC, repeated 20 times for each collection\n",
    "'''\n",
    "COLLECTIONS = ['TREC3', 'TREC5', 'TREC6', 'TREC7', 'TREC8', 'TREC2001', 'R04', 'TB06', 'TB06M', 'WEB14']\n",
    "MU_VALUES = {'TREC3': 14.9, 'TREC5': 3.9, 'TREC6': 6.32, 'TREC7': 5.78, 'TREC8': 5.35, 'TREC2001': 3.916, 'R04': 5.189,\n",
    "             'TB06': 17.486, 'TB06M': 17.797, 'WEB14': 39.196}\n",
    "SIGMA_VALUES = {'TREC3': 0.123, 'TREC5': 0.043, 'TREC6': 0.067, 'TREC7': 0.047, 'TREC8': 0.048, 'TREC2001': 0.049,\n",
    "                'R04': 0.051, 'TB06': 0.139, 'TB06M': 0.14, 'WEB14': 0.234}\n",
    "for COLLECTION in COLLECTIONS:\n",
    "    print('Working on {}'.format(COLLECTION))\n",
    "    \n",
    "    # Real systems/topics table, trec_eval, runs and real qrels paths \n",
    "    CSV_TABLE = '../../src/Tables/{}.csv'.format(COLLECTION)\n",
    "    REAL_QRELS = '../../src/qrels/qrels.{}.txt'.format(COLLECTION)\n",
    "\n",
    "    real_table = pd.read_csv(CSV_TABLE, sep=',', header=0, index_col=0)\n",
    "    systems = real_table.index.values\n",
    "    topics = real_table.columns.values\n",
    "\n",
    "    NUM_REP = 20\n",
    "    for rep in range(NUM_REP):\n",
    "        np.random.seed(seed=rep)\n",
    "\n",
    "        #Create artificial qrels using the information coming from the real ones\n",
    "        qrels = pd.read_csv(REAL_QRELS, sep=' ', header=None)\n",
    "        qrels.columns = ['topic', 'zero', 'doc', 'relevant']\n",
    "        qrels_topic_relevant = qrels.groupby('topic')['relevant']\n",
    "        qrels_agg = qrels_topic_relevant.agg({'count': 'count'})\n",
    "        mu = MU_VALUES_FIT[COLLECTION]\n",
    "        sigma = SIGMA_VALUES[COLLECTION]\n",
    "        # Build a normal distribution using mu and sigma\n",
    "        s = np.random.normal(mu, sigma, size=len(topics))\n",
    "        qrels_agg['perc_of_sampling'] = s\n",
    "\n",
    "        # Sample the documents with respect to the normal distribution\n",
    "        df_sampled_docs = pd.DataFrame(columns=['topic', 'doc', 'relevant'])\n",
    "        for t in topics:\n",
    "            sub = qrels[qrels['topic'] == int(t)]\n",
    "            sub['relevant'] = 0\n",
    "            perc = int((qrels_agg.loc[int(t)]['perc_of_sampling']) * (qrels_agg.loc[int(t)]['count']) / 100 )\n",
    "            sample = np.random.choice(sub['doc'], size=perc, replace=False)\n",
    "            sub.ix[sub.doc.isin(sample), 'relevant'] = 1\n",
    "            df_sampled_docs = pd.concat([df_sampled_docs, sub])\n",
    "\n",
    "        df_sampled_docs['topic'] = df_sampled_docs['topic'].astype(int)\n",
    "        df_sampled_docs['relevant'] = df_sampled_docs['relevant'].astype(int)\n",
    "        df_sampled_docs['zero'] = df_sampled_docs['zero'].astype(int)\n",
    "\n",
    "        df_sampled_docs = df_sampled_docs[['topic', 'zero', 'doc', 'relevant']]\n",
    "        df_sampled_docs.sort_values(by='topic', inplace=True)\n",
    "\n",
    "        # Artificial qrels, trec_eval results and systems/topics Soboroff matrix paths\n",
    "        ARTIFICIAL_QRELS = '../../pickles/SNC_estimate_orig_qrels/sampled_qrels/{}_qrels_in_{}.csv'.format(COLLECTION, rep)\n",
    "        \n",
    "        # save qrels to file\n",
    "        df_sampled_docs.to_csv(ARTIFICIAL_QRELS, sep=' ', header=False, index=False)\n",
    "        "
   ]
  },
  {
   "cell_type": "code",
   "execution_count": null,
   "metadata": {
    "collapsed": true
   },
   "outputs": [],
   "source": []
  }
 ],
 "metadata": {
  "kernelspec": {
   "display_name": "Python 3",
   "language": "python",
   "name": "python3"
  },
  "language_info": {
   "codemirror_mode": {
    "name": "ipython",
    "version": 3
   },
   "file_extension": ".py",
   "mimetype": "text/x-python",
   "name": "python",
   "nbconvert_exporter": "python",
   "pygments_lexer": "ipython3",
   "version": "3.6.0"
  }
 },
 "nbformat": 4,
 "nbformat_minor": 2
}
