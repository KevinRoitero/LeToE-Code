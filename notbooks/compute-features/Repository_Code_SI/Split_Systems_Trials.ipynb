{
 "cells": [
  {
   "cell_type": "code",
   "execution_count": null,
   "metadata": {
    "collapsed": true
   },
   "outputs": [],
   "source": [
    "import numpy as np\n",
    "import pandas as pd\n",
    "import scipy as sp\n",
    "import os \n",
    "from IPython.display import display, HTML\n",
    "from os.path import isfile, join\n",
    "import random\n",
    "from collections import Counter"
   ]
  },
  {
   "cell_type": "code",
   "execution_count": null,
   "metadata": {
    "collapsed": true
   },
   "outputs": [],
   "source": [
    "COLLECTIONS = ['TREC3', 'TREC5', 'TREC6', 'TREC7', 'TREC8', 'TREC2001', 'R04', 'TB06', 'TB06M', 'WEB14']\n",
    "\n",
    "onerun_systems = {'TREC3':\n",
    "        ['xerox3', 'inq101', 'nyuir2', 'clarta', 'crnlea' , 'citri1', 'siems1', 'citya1', 'dortd2', \n",
    "         'westp1', 'lsia0mw2', 'eth002', 'pircs1', 'padre2', 'erima1', 'acqnt1', 'virtu1'],\n",
    "        \n",
    "          'TREC6':\n",
    "        ['aiatA1', 'att97ac', 'anu6ash1', 'city6ad', 'csiro97a2', 'Cor6A2qtcs', 'DCU97snt','gerua3', 'gmu97au1', \n",
    "         'ibms97a', 'Mercure2', 'iss97s', 'LNaShort', 'mds601', 'jalbse','nsasg2', 'pirc7Ad', 'Brkly21', 'glair64', \n",
    "         'umcpa197', 'INQ401', 'ispa2', 'uwmt6a2','VrtyAH6a'],\n",
    "    \n",
    "          'TREC7':\n",
    "        ['acsys7as', 'APL985SC', 'att98atdc', 'Brkly24', 'Cor7A1clt', 'dsir07a02', 'ETHAC0', 'FLab7atE', 'fsclt7a', 'gersh2', \n",
    "         'ibmg98b', 'ic98san3', 'iit98au2', 'INQ503', 'jalbse011', 'kslsV1', 'LIAshort2', 'LNaTitDesc7', 'mds98td', 'MerAdRbtd', \n",
    "         'nectitech', 'nttdata7At1', 'ok7am', 'umd98a1', 'uwmt7a0'],  \n",
    "          \n",
    "        'AH99':\n",
    "        ['Mer8Adtd4', 'apl8ctd', 'kdd8sh16', 'ok8amxc', 'MITSLStd', 'uwmt8a2', 'nttd8ame','pir9Attd', 'ric8dpx', 'mds08a4', 'AntHoc1', \n",
    "         'acsys8amn', 'att99atde', 'weaver2','plt8ah2', 'Dm8NbnR', 'fub99td', 'Flab8atd2', 'GE8ATD3', 'ibmg99b', 'ibms99a','iit99au1', \n",
    "         'ic99dafb', 'Sab8A4', 'Scai8Adhoc', 'UB99SW', 'tno8d3', 'UniNET8St','umd99a1', 'INQ603', 'isa50', 'unc8al52', 'surfahi2', 'UT800', '1'],\n",
    "         }\n",
    "    "
   ]
  },
  {
   "cell_type": "code",
   "execution_count": null,
   "metadata": {
    "collapsed": true
   },
   "outputs": [],
   "source": []
  },
  {
   "cell_type": "code",
   "execution_count": null,
   "metadata": {
    "collapsed": true
   },
   "outputs": [],
   "source": [
    "'''\n",
    "    shuffle with return\n",
    "'''\n",
    "def my_shuffle(array):\n",
    "    random.shuffle(array)\n",
    "    return array\n",
    "\n",
    "'''\n",
    "    builds the chunks of 5 sistems\n",
    "'''\n",
    "def get_chunk(systems): \n",
    "    mat = np.tile(systems, 5).reshape(5,(len(systems)))\n",
    "    equaltotal=True\n",
    "    attempts = 0\n",
    "    while equaltotal:\n",
    "        attempts +=1\n",
    "        \n",
    "        # shuffle\n",
    "        for i in range(5):\n",
    "            mat[i] = my_shuffle(  np.array(mat[i])  )\n",
    "        \n",
    "        # not 2 equal columns\n",
    "        equal = 0\n",
    "        for i in range(len(mat)): #generate pairs\n",
    "            for j in range(i+1,len(mat)): \n",
    "                if np.array_equal(mat[i], mat[j]):           #compare rows        \n",
    "                #if not(np.array_equal(mat[:,i],mat[:,j])):   #compare columns -- DON'T USE\n",
    "                    equal += 1\n",
    "        \n",
    "        # unique elements in a column\n",
    "        repeti = 0\n",
    "        for z in range(len(systems)):\n",
    "            if len(np.unique(mat[:,z])) < 5:\n",
    "                repeti +=1\n",
    "        \n",
    "        if (equal == 0) and (repeti==0):\n",
    "            #####\n",
    "            aftercheck = 0\n",
    "            mat.sort(axis=0)\n",
    "            for i in range(len(mat)):\n",
    "                for j in range(i+1,len(mat)): \n",
    "                    if np.array_equal(mat[i], mat[j]):           #compare rows  \n",
    "                        aftercheck +=1\n",
    "                    \n",
    "            if aftercheck == 0:\n",
    "            ####\n",
    "                equaltotal = False\n",
    "            \n",
    "        # Borderline case -- NEVER happened, still provides a sound division in chunks\n",
    "        if attempts ==1000000:\n",
    "            for i in range(5):\n",
    "                mat[i] = np.roll(mat[i], i)\n",
    "            equaltotal = False\n",
    "    \n",
    "    return (np.transpose(mat), attempts )\n"
   ]
  },
  {
   "cell_type": "code",
   "execution_count": null,
   "metadata": {
    "collapsed": true
   },
   "outputs": [],
   "source": []
  },
  {
   "cell_type": "code",
   "execution_count": null,
   "metadata": {
    "collapsed": false
   },
   "outputs": [],
   "source": [
    "'''\n",
    "    main\n",
    "'''\n",
    "\n",
    "df_campione = pd.DataFrame(columns=['collection', 'time' ,'dfcamp', 'attempts'])\n",
    "\n",
    "for COLLECTION in COLLECTIONS:\n",
    "    print(COLLECTION)\n",
    "    CSV_TABLE =  '../../src/Tables/'+COLLECTION+'.csv'\n",
    "    \n",
    "    real_table = pd.read_csv(CSV_TABLE, sep=',', header=0, index_col=0)\n",
    "    systems = onerun_systems[COLLECTION]\n",
    "    \n",
    "    for time in range(20):\n",
    "        random.seed(time)\n",
    "        print('{}, '.format(time+1), end='')\n",
    "        lista, att = get_chunk(systems)\n",
    "        \n",
    "        df_campione.loc[len(df_campione)] = [COLLECTION, time, lista, att]        \n",
    "        df_campione.to_pickle('../../pickles/trials_ONERUN.pickle')\n"
   ]
  },
  {
   "cell_type": "code",
   "execution_count": null,
   "metadata": {
    "collapsed": true
   },
   "outputs": [],
   "source": []
  },
  {
   "cell_type": "code",
   "execution_count": null,
   "metadata": {
    "collapsed": true
   },
   "outputs": [],
   "source": []
  },
  {
   "cell_type": "code",
   "execution_count": null,
   "metadata": {
    "collapsed": true
   },
   "outputs": [],
   "source": []
  },
  {
   "cell_type": "code",
   "execution_count": null,
   "metadata": {
    "collapsed": true
   },
   "outputs": [],
   "source": []
  },
  {
   "cell_type": "code",
   "execution_count": null,
   "metadata": {
    "collapsed": true
   },
   "outputs": [],
   "source": []
  }
 ],
 "metadata": {
  "anaconda-cloud": {},
  "kernelspec": {
   "display_name": "Python 3",
   "language": "python",
   "name": "python3"
  },
  "language_info": {
   "codemirror_mode": {
    "name": "ipython",
    "version": 3
   },
   "file_extension": ".py",
   "mimetype": "text/x-python",
   "name": "python",
   "nbconvert_exporter": "python",
   "pygments_lexer": "ipython3",
   "version": "3.6.0"
  }
 },
 "nbformat": 4,
 "nbformat_minor": 2
}
